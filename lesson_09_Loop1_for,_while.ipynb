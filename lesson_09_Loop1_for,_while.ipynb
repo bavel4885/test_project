{
  "cells": [
    {
      "cell_type": "markdown",
      "metadata": {
        "id": "view-in-github",
        "colab_type": "text"
      },
      "source": [
        "<a href=\"https://colab.research.google.com/github/bavel4885/test_project/blob/main/lesson_09_Loop1_for%2C_while.ipynb\" target=\"_parent\"><img src=\"https://colab.research.google.com/assets/colab-badge.svg\" alt=\"Open In Colab\"/></a>"
      ]
    },
    {
      "cell_type": "markdown",
      "metadata": {
        "id": "XWWKDqVI-rU0"
      },
      "source": [
        "### Loop문\n",
        "    - 특정 코드를 종료시점까지 반복적으로 수행할 수 있는 구문\n",
        "    - for, while, continue, break\n",
        "    - list comprehention\n",
        "    - 머신러닝에서 학습을 시킬 수 있게하는 기본 코드"
      ]
    },
    {
      "cell_type": "markdown",
      "metadata": {
        "id": "bjpod-I--rU2"
      },
      "source": [
        "#### for문 1\n",
        "    - iterable한(반복 가능한) 값을 꺼내와서 변수에 대입시킨 후 갯수만큼 실행\n",
        "```python\n",
        "    for 변수 in 범위:\n",
        "        실행문\n",
        "```\n",
        "    - 범위(range)를 정하여 반복 횟수를 지정하고 지정한 횟수가 되면 loop문을 종료"
      ]
    },
    {
      "cell_type": "code",
      "execution_count": 5,
      "metadata": {
        "id": "Cwf2VDWV-rU2",
        "colab": {
          "base_uri": "https://localhost:8080/"
        },
        "outputId": "e39dba60-5edb-44db-8a4c-da5017362ded"
      },
      "outputs": [
        {
          "output_type": "stream",
          "name": "stdout",
          "text": [
            "0\n",
            "1\n",
            "2\n",
            "3\n",
            "4\n",
            "5\n",
            "6\n",
            "7\n",
            "8\n",
            "9\n"
          ]
        }
      ],
      "source": [
        "for i in range(10):\n",
        "   print(i)"
      ]
    },
    {
      "cell_type": "code",
      "execution_count": 6,
      "metadata": {
        "id": "huhPewpE-rU3",
        "colab": {
          "base_uri": "https://localhost:8080/"
        },
        "outputId": "5e05f5b2-0564-49cf-9922-b0e0cf872a19"
      },
      "outputs": [
        {
          "output_type": "stream",
          "name": "stdout",
          "text": [
            "7 x 1 = 7\n",
            "7 x 2 = 14\n",
            "7 x 3 = 21\n",
            "7 x 4 = 28\n",
            "7 x 5 = 35\n",
            "7 x 6 = 42\n",
            "7 x 7 = 49\n",
            "7 x 8 = 56\n",
            "7 x 9 = 63\n"
          ]
        }
      ],
      "source": [
        "# 구구단\n",
        "for i in range(1,10):\n",
        "    print(\"7 x\",i,\"=\", 7*i)"
      ]
    },
    {
      "cell_type": "code",
      "execution_count": 8,
      "metadata": {
        "id": "svjR0qxR-rU4",
        "colab": {
          "base_uri": "https://localhost:8080/"
        },
        "outputId": "a3c4fd40-455f-439a-d2f2-16f4ac3d9287"
      },
      "outputs": [
        {
          "output_type": "stream",
          "name": "stdout",
          "text": [
            "H\n",
            "e\n",
            "l\n",
            "l\n",
            "o\n",
            " \n",
            "P\n",
            "y\n",
            "t\n",
            "h\n",
            "o\n",
            "n\n",
            ".\n",
            " \n",
            "H\n",
            "e\n",
            "l\n",
            "l\n",
            "p\n",
            " \n",
            "w\n",
            "o\n",
            "r\n",
            "l\n",
            "d\n",
            "!\n"
          ]
        }
      ],
      "source": [
        "text = \"Hello Python. Hellp world!\"\n",
        "for word in text:\n",
        "    print(word)"
      ]
    },
    {
      "cell_type": "code",
      "execution_count": 9,
      "metadata": {
        "id": "s83h0xpm-rU4",
        "colab": {
          "base_uri": "https://localhost:8080/"
        },
        "outputId": "5f25c367-07fc-4f01-81a9-0c205b4e6909"
      },
      "outputs": [
        {
          "output_type": "stream",
          "name": "stdout",
          "text": [
            "game AI\n",
            "classification\n",
            "clustering\n"
          ]
        }
      ],
      "source": [
        "dic_t = {'Reinforcement learning': 'game AI',\n",
        " 'Supervised learning': 'classification',\n",
        " 'Unsupervised learning': 'clustering'}\n",
        " \n",
        "for value in dic_t.values():\n",
        "  print(value)"
      ]
    },
    {
      "cell_type": "markdown",
      "source": [
        "2개 이상의 변수 받기"
      ],
      "metadata": {
        "id": "HkUuxPBrLO8w"
      }
    },
    {
      "cell_type": "code",
      "execution_count": 12,
      "metadata": {
        "id": "RBmQABbq-rU4",
        "colab": {
          "base_uri": "https://localhost:8080/"
        },
        "outputId": "1a4568fe-2a7e-4276-863a-f206f0f85170"
      },
      "outputs": [
        {
          "output_type": "stream",
          "name": "stdout",
          "text": [
            "key:  Reinforcement learning --------- value: game AI\n",
            "key:  Supervised learning --------- value: classification\n",
            "key:  Unsupervised learning --------- value: clustering\n"
          ]
        }
      ],
      "source": [
        "for key, value in dic_t.items():\n",
        "  print('key: ', key,'---------', 'value:', value)\n"
      ]
    },
    {
      "cell_type": "code",
      "source": [
        "for key, value in zip(dic_t.keys() , dic_t.value\n",
        "  print('key: ', key,'---------', 'value:', value)\n",
        "\n",
        "\n",
        "ls1 = dic_t.keys()\n",
        "ls2 = dic_t.values()\n",
        "\n",
        "# blank"
      ],
      "metadata": {
        "colab": {
          "base_uri": "https://localhost:8080/"
        },
        "id": "5Y91MpZwLZ-E",
        "outputId": "aa1a3e6f-38ae-4dfb-e898-59c906ded073"
      },
      "execution_count": 13,
      "outputs": [
        {
          "output_type": "stream",
          "name": "stdout",
          "text": [
            "key:  Reinforcement learning --------- value: game AI\n",
            "key:  Supervised learning --------- value: classification\n",
            "key:  Unsupervised learning --------- value: clustering\n"
          ]
        }
      ]
    },
    {
      "cell_type": "markdown",
      "metadata": {
        "id": "bWv5oX7O-rU5"
      },
      "source": [
        "#### for문 quiz"
      ]
    },
    {
      "cell_type": "code",
      "execution_count": 17,
      "metadata": {
        "colab": {
          "base_uri": "https://localhost:8080/"
        },
        "id": "Fwd4s9Mf-rU6",
        "outputId": "357f402a-b7c9-451e-d2f4-094e9cfa9ec6"
      },
      "outputs": [
        {
          "output_type": "stream",
          "name": "stdout",
          "text": [
            "첫번째 숫자 입력: 12\n",
            "두번째 숫자 입력: 3\n",
            "최대공약수는 3 입니다\n"
          ]
        }
      ],
      "source": [
        "#최대공약수 구하기\n",
        "a = int(input(\"첫번째 숫자 입력: \"))\n",
        "b = int(input(\"두번째 숫자 입력: \"))\n",
        "for i in range(max(a,b), 1, -1):\n",
        "  if a % i == 0 and b % i == 0:\n",
        "      print(\"최대공약수는 %d 입니다\"%i)\n",
        "      break\n",
        "  else:\n",
        "      continue\n",
        "  # complete the blanks"
      ]
    },
    {
      "cell_type": "markdown",
      "metadata": {
        "id": "vDBqRZfe-rU6"
      },
      "source": [
        "### Quiz\n",
        "    list안의 list의 데이터를 꺼내서 출력해보기\n",
        "\n",
        "    index를 이용해서 출력해보기\n",
        "    for, if, elif, else\n",
        "        VIP이상은 발렛파킹\n",
        "        platinum은 우대주차장\n",
        "        Family 지하 12층"
      ]
    },
    {
      "cell_type": "code",
      "execution_count": null,
      "metadata": {
        "colab": {
          "base_uri": "https://localhost:8080/"
        },
        "id": "C-IAsWyo-rU6",
        "outputId": "b118ecb4-1531-4364-c95e-7df8d368fa96"
      },
      "outputs": [
        {
          "output_type": "stream",
          "name": "stdout",
          "text": [
            "VVIP 등급입니다.\n",
            "발렛파킹이 가능합니다\n",
            "VIP 등급입니다.\n",
            "발렛파킹이 가능합니다\n",
            "Platinum 등급입니다.\n",
            "우대주차장에 주차가 가능합니다\n",
            "Family 등급입니다.\n",
            "지하 12층으로 가세요\n"
          ]
        }
      ],
      "source": [
        "member = [['VVIP',50_000], ['VIP',30_000],['Platinum', 20_000],['Family', 10_000]]\n",
        "\n",
        "for grade in member:\n",
        "  # complete the blanks\n"
      ]
    },
    {
      "cell_type": "markdown",
      "metadata": {
        "id": "AbrfDtex-rU7"
      },
      "source": [
        "#### while 문\n",
        "```python\n",
        "while 조건문: # 조건문이 False가 될 때까지 반복\n",
        "    실행문\n",
        "```"
      ]
    },
    {
      "cell_type": "code",
      "execution_count": 18,
      "metadata": {
        "id": "71oX5-kZ-rU7",
        "colab": {
          "base_uri": "https://localhost:8080/"
        },
        "outputId": "d1c4a5df-637f-4a8f-8b92-d9c3d2da29b8"
      },
      "outputs": [
        {
          "output_type": "stream",
          "name": "stdout",
          "text": [
            "1\n",
            "2\n",
            "3\n",
            "4\n",
            "5\n",
            "6\n",
            "7\n",
            "8\n",
            "9\n"
          ]
        }
      ],
      "source": [
        "a = 1\n",
        "while a<10:\n",
        "  print(a)\n",
        "  a += 1"
      ]
    },
    {
      "cell_type": "code",
      "source": [
        "rep = 10\n",
        "while rep:\n",
        "    print(rep)\n",
        "    rep -= 1 \n"
      ],
      "metadata": {
        "id": "NOVpzHYkB6x7",
        "colab": {
          "base_uri": "https://localhost:8080/"
        },
        "outputId": "ffa01990-7ba3-4c73-d14c-187f0ab28fc2"
      },
      "execution_count": 19,
      "outputs": [
        {
          "output_type": "stream",
          "name": "stdout",
          "text": [
            "10\n",
            "9\n",
            "8\n",
            "7\n",
            "6\n",
            "5\n",
            "4\n",
            "3\n",
            "2\n",
            "1\n"
          ]
        }
      ]
    },
    {
      "cell_type": "markdown",
      "metadata": {
        "id": "xYPU9xlR-rU7"
      },
      "source": [
        "#### while문 quiz\n",
        "    while문을 이용하여 코드를 만들어보기"
      ]
    },
    {
      "cell_type": "code",
      "execution_count": 23,
      "metadata": {
        "colab": {
          "base_uri": "https://localhost:8080/"
        },
        "id": "7CFGAp7Q-rU7",
        "outputId": "e958ec6d-c9a4-4ca5-d1a5-1c60285d4e26"
      },
      "outputs": [
        {
          "output_type": "stream",
          "name": "stdout",
          "text": [
            "20! 는 121645100408832000 입니다.\n"
          ]
        }
      ],
      "source": [
        "# factorial 계산 해보기\n",
        "i = 1\n",
        "factorial = 1\n",
        "\n",
        "while i < 20:\n",
        "  factorial = factorial * i\n",
        "  i = i+1\n",
        "print(\"%s! 는 %s 입니다.\" %(i,factorial))"
      ]
    },
    {
      "cell_type": "code",
      "execution_count": 25,
      "metadata": {
        "colab": {
          "base_uri": "https://localhost:8080/"
        },
        "id": "pkY9VcyK-rU8",
        "outputId": "4d90b255-722c-4579-a7c8-e368ed81acf2"
      },
      "outputs": [
        {
          "output_type": "stream",
          "name": "stdout",
          "text": [
            "1부터 100사이의 모든 3의배수의 합은 1683입니다.\n"
          ]
        }
      ],
      "source": [
        "# 배수의 합 계산 프로그램 만들기\n",
        "# 1부터 100사이의 모든 3의 배수의 합을 계산하여 출력해보자\n",
        "\n",
        "sum = 0\n",
        "num = 1\n",
        "\n",
        "while num <= 100:\n",
        "  if num % 3 == 0:\n",
        "    sum += num\n",
        "\n",
        "  num += 1\n",
        "print(f\"1부터 100사이의 모든 3의배수의 합은 {sum}입니다.\")\n",
        "\n",
        "# complete the blanks"
      ]
    },
    {
      "cell_type": "code",
      "execution_count": 27,
      "metadata": {
        "colab": {
          "base_uri": "https://localhost:8080/"
        },
        "id": "G9B_Z1Xh-rU8",
        "outputId": "d0658b27-9877-4dca-db94-572fd3635e27"
      },
      "outputs": [
        {
          "output_type": "stream",
          "name": "stdout",
          "text": [
            "자리 수의 합은 10 입니다\n"
          ]
        }
      ],
      "source": [
        "# 정수 안의 각 자리 수의 합을 계산해보자\n",
        "# 예를 들어 1234 라면 1+2+3+4를 계산해야 한다.\n",
        "\n",
        "number = 1234\n",
        "sum = 0\n",
        "while  number > 0:\n",
        "  digit = number % 10\n",
        "  sum += digit\n",
        "  number //= 10\n",
        "\n",
        "print('자리 수의 합은 %s 입니다' %(sum))\n",
        "\n",
        "# complete the blanks"
      ]
    },
    {
      "cell_type": "markdown",
      "metadata": {
        "id": "JMwRiVCz-rU8"
      },
      "source": [
        "#### while문의 무한루프\n",
        "  - 무한 반복을 막기 위해 탈출문자를 사용한다.\n",
        "  "
      ]
    },
    {
      "cell_type": "code",
      "execution_count": null,
      "metadata": {
        "id": "nIgav6Vj-rU8"
      },
      "outputs": [],
      "source": [
        "# 하지마세요~"
      ]
    },
    {
      "cell_type": "markdown",
      "metadata": {
        "id": "po286VL1-rU9"
      },
      "source": [
        "### Quiz\n",
        "    로또 번호 생성기\n",
        "\n",
        "    1~45까지 숫자를 중복없이 6개를 추출해서 한 리스트에 담기\n",
        "    random 모듈을 이용해서 작성\n",
        "    무한루프로 돌리되 break를 이용하여 탈출할 수 있게 작성\n",
        "    멤버 연산 in, not in"
      ]
    },
    {
      "cell_type": "code",
      "source": [
        "import random\n",
        "\n",
        "lotto = []\n",
        "\n",
        "\n",
        "while True:\n",
        "  number = random.randint(1,45)\n",
        "  if number not in lotto:\n",
        "    lotto.append(number)\n",
        "  if len(lotto) == 6:\n",
        "    break\n",
        "\n",
        "lotto.sort()\n",
        "lotto"
      ],
      "metadata": {
        "id": "eVAf4wmTEHBQ",
        "colab": {
          "base_uri": "https://localhost:8080/"
        },
        "outputId": "8d218c05-5786-4097-d2d7-25aacb585a62"
      },
      "execution_count": 29,
      "outputs": [
        {
          "output_type": "execute_result",
          "data": {
            "text/plain": [
              "[2, 7, 12, 26, 28, 33]"
            ]
          },
          "metadata": {},
          "execution_count": 29
        }
      ]
    }
  ],
  "metadata": {
    "hide_input": false,
    "kernelspec": {
      "display_name": "Python 3",
      "language": "python",
      "name": "python3"
    },
    "language_info": {
      "codemirror_mode": {
        "name": "ipython",
        "version": 3
      },
      "file_extension": ".py",
      "mimetype": "text/x-python",
      "name": "python",
      "nbconvert_exporter": "python",
      "pygments_lexer": "ipython3",
      "version": "3.8.5"
    },
    "toc": {
      "base_numbering": 1,
      "nav_menu": {},
      "number_sections": true,
      "sideBar": true,
      "skip_h1_title": false,
      "title_cell": "Table of Contents",
      "title_sidebar": "Contents",
      "toc_cell": false,
      "toc_position": {},
      "toc_section_display": true,
      "toc_window_display": false
    },
    "varInspector": {
      "cols": {
        "lenName": 16,
        "lenType": 16,
        "lenVar": 40
      },
      "kernels_config": {
        "python": {
          "delete_cmd_postfix": "",
          "delete_cmd_prefix": "del ",
          "library": "var_list.py",
          "varRefreshCmd": "print(var_dic_list())"
        },
        "r": {
          "delete_cmd_postfix": ") ",
          "delete_cmd_prefix": "rm(",
          "library": "var_list.r",
          "varRefreshCmd": "cat(var_dic_list()) "
        }
      },
      "types_to_exclude": [
        "module",
        "function",
        "builtin_function_or_method",
        "instance",
        "_Feature"
      ],
      "window_display": false
    },
    "colab": {
      "name": "lesson 09. Loop1 - for, while.ipynb",
      "provenance": [],
      "collapsed_sections": [],
      "include_colab_link": true
    }
  },
  "nbformat": 4,
  "nbformat_minor": 0
}