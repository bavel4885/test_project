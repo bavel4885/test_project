{
  "cells": [
    {
      "cell_type": "markdown",
      "metadata": {
        "id": "view-in-github",
        "colab_type": "text"
      },
      "source": [
        "<a href=\"https://colab.research.google.com/github/bavel4885/test_project/blob/main/lesson_04_operator(%EC%97%B0%EC%82%B0%EC%9E%90).ipynb\" target=\"_parent\"><img src=\"https://colab.research.google.com/assets/colab-badge.svg\" alt=\"Open In Colab\"/></a>"
      ]
    },
    {
      "cell_type": "markdown",
      "metadata": {
        "id": "EdUFrdbbl-wc"
      },
      "source": [
        "### 연산자\n",
        "    - 산술\n",
        "    - 할당\n",
        "    - 비교\n",
        "    - 논리\n",
        "    - 멤버"
      ]
    },
    {
      "cell_type": "markdown",
      "metadata": {
        "id": "Es33FJOIl-wh"
      },
      "source": [
        "#### 산술\n",
        "    +, -, *, /, //, %, **"
      ]
    },
    {
      "cell_type": "code",
      "execution_count": null,
      "metadata": {
        "id": "Obwwmae4l-wi"
      },
      "outputs": [],
      "source": [
        ""
      ]
    },
    {
      "cell_type": "markdown",
      "metadata": {
        "id": "N9rtuBxCl-wj"
      },
      "source": [
        "#### 할당"
      ]
    },
    {
      "cell_type": "code",
      "execution_count": null,
      "metadata": {
        "id": "PxJ4rOayl-wj"
      },
      "outputs": [],
      "source": [
        "a= 100\n",
        "a *-1.1\n",
        "a *=1.1\n"
      ]
    },
    {
      "cell_type": "code",
      "execution_count": null,
      "metadata": {
        "id": "pGOoz9kUl-wk"
      },
      "outputs": [],
      "source": [
        "# blank"
      ]
    },
    {
      "cell_type": "markdown",
      "metadata": {
        "id": "WhGoOc1zl-wl"
      },
      "source": [
        "#### 비교\n",
        "    >, <, >=, <=, ==, !=\n",
        "    결과값이 True, False"
      ]
    },
    {
      "cell_type": "code",
      "execution_count": 1,
      "metadata": {
        "id": "c9IvDY9nl-wl",
        "colab": {
          "base_uri": "https://localhost:8080/"
        },
        "outputId": "afd9f8fa-987e-4b8e-cb30-8581ddfff773"
      },
      "outputs": [
        {
          "output_type": "stream",
          "name": "stdout",
          "text": [
            "True False\n",
            "False\n"
          ]
        }
      ],
      "source": [
        "b= 3\n",
        "c= 3.0\n",
        "\n",
        "print(b == c, b>c)\n",
        "print(b !=c)\n"
      ]
    },
    {
      "cell_type": "markdown",
      "metadata": {
        "id": "7GPG_Goul-wm"
      },
      "source": [
        "#### 논리 \n",
        "    and, or, not\n",
        "    True, False로 나타내는 연산\n",
        "    연산은 앞에서부터 순서대로 진행"
      ]
    },
    {
      "cell_type": "code",
      "execution_count": 3,
      "metadata": {
        "id": "n3TPm0PEl-wm",
        "colab": {
          "base_uri": "https://localhost:8080/"
        },
        "outputId": "6d8fc2dd-cc0f-4a0b-e0ce-138de8cdaeea"
      },
      "outputs": [
        {
          "output_type": "stream",
          "name": "stdout",
          "text": [
            "False True False\n",
            "True False True\n"
          ]
        }
      ],
      "source": [
        "print(True and False, True or False, not True or False)\n",
        "print(True and True, False or False, not False or False)"
      ]
    },
    {
      "cell_type": "markdown",
      "metadata": {
        "id": "KZlXYwOJl-wn"
      },
      "source": [
        "#### 멤버\n",
        "    in, not in\n",
        "    특정 데이터가 있는지 확인할 때 사용"
      ]
    },
    {
      "cell_type": "code",
      "execution_count": null,
      "metadata": {
        "id": "tNj-_A6el-wn"
      },
      "outputs": [],
      "source": [
        "a = ['python' , 'Ai']"
      ]
    }
  ],
  "metadata": {
    "kernelspec": {
      "display_name": "Python 3",
      "language": "python",
      "name": "python3"
    },
    "language_info": {
      "codemirror_mode": {
        "name": "ipython",
        "version": 3
      },
      "file_extension": ".py",
      "mimetype": "text/x-python",
      "name": "python",
      "nbconvert_exporter": "python",
      "pygments_lexer": "ipython3",
      "version": "3.8.5"
    },
    "toc": {
      "base_numbering": 1,
      "nav_menu": {},
      "number_sections": true,
      "sideBar": true,
      "skip_h1_title": false,
      "title_cell": "Table of Contents",
      "title_sidebar": "Contents",
      "toc_cell": false,
      "toc_position": {},
      "toc_section_display": true,
      "toc_window_display": false
    },
    "colab": {
      "name": "lesson 04. operator(연산자).ipynb",
      "provenance": [],
      "collapsed_sections": [],
      "include_colab_link": true
    }
  },
  "nbformat": 4,
  "nbformat_minor": 0
}