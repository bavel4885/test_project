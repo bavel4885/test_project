{
  "cells": [
    {
      "cell_type": "markdown",
      "metadata": {
        "id": "view-in-github",
        "colab_type": "text"
      },
      "source": [
        "<a href=\"https://colab.research.google.com/github/bavel4885/test_project/blob/main/lesson_05_Condition.ipynb\" target=\"_parent\"><img src=\"https://colab.research.google.com/assets/colab-badge.svg\" alt=\"Open In Colab\"/></a>"
      ]
    },
    {
      "cell_type": "markdown",
      "metadata": {
        "id": "pvN6_6mHnSxa"
      },
      "source": [
        "### 조건문(condition)\n",
        "    특정 조건에 따라 코드를 실행하고자 할 때 사용\n",
        "    if, else, elif"
      ]
    },
    {
      "cell_type": "markdown",
      "metadata": {
        "id": "ojfRpbgcnSxe"
      },
      "source": [
        "# #### if\n",
        "```python\n",
        "if 조건문 :\n",
        "    조건이 성립할 때 실행될 구문\n",
        "```\n",
        "    조건문에 boolean 타입 외의 데이터 타입이 오면 boolean 타입으로 형변환되어 판단"
      ]
    },
    {
      "cell_type": "code",
      "execution_count": 4,
      "metadata": {
        "id": "yTHfpG26nSxf",
        "colab": {
          "base_uri": "https://localhost:8080/"
        },
        "outputId": "598b983e-3649-4131-8826-bfb2035671fd"
      },
      "outputs": [
        {
          "output_type": "stream",
          "name": "stdout",
          "text": [
            "it's True\n",
            "done\n",
            "False done\n"
          ]
        }
      ],
      "source": [
        "if True:\n",
        "    print(\"it's True\")\n",
        "\n",
        "print(\"done\")\n",
        "\n",
        "if False:\n",
        "    print(\"it's False\")\n",
        "\n",
        "print(\"False done\")"
      ]
    },
    {
      "cell_type": "code",
      "execution_count": 5,
      "metadata": {
        "id": "OuuUqdmcnSxf",
        "colab": {
          "base_uri": "https://localhost:8080/"
        },
        "outputId": "58bcb45f-8efd-429b-d9fa-8a8532267283"
      },
      "outputs": [
        {
          "output_type": "stream",
          "name": "stdout",
          "text": [
            "num2 done\n"
          ]
        }
      ],
      "source": [
        "num =0\n",
        "if num:\n",
        "    print(\"done\")\n",
        "\n",
        "num2 =10\n",
        "if num2:\n",
        "    print(\"num2 done\")"
      ]
    },
    {
      "cell_type": "code",
      "source": [
        ""
      ],
      "metadata": {
        "id": "QIoQJ2ZF05US"
      },
      "execution_count": null,
      "outputs": []
    },
    {
      "cell_type": "markdown",
      "metadata": {
        "id": "YhAIgIKfnSxf"
      },
      "source": [
        "    int : 0을 제외한 나머지 숫자는 모두 True\n",
        "    float : 0.0을 제외한 나머지 숫자는 모두 True\n",
        "    str : \"\"을 제외한 나머지는 모두 True\n",
        "    list, tuple, dict : [], (), {}을 제외한 나머지는 모두 True"
      ]
    },
    {
      "cell_type": "markdown",
      "metadata": {
        "id": "nyXFiMaqnSxg"
      },
      "source": [
        "#### if else\n",
        "```python\n",
        "if 조건문:\n",
        "    조건문이 성립할 때 실행되는 구문\n",
        "else:\n",
        "    조건문 외의 경우가 성립할 때 실행되는 구문\n",
        "```"
      ]
    },
    {
      "cell_type": "code",
      "execution_count": 6,
      "metadata": {
        "id": "S1XWQ5q2nSxg",
        "colab": {
          "base_uri": "https://localhost:8080/"
        },
        "outputId": "91be1e0d-6a4d-4683-dcf2-4e1bec8c0131"
      },
      "outputs": [
        {
          "output_type": "stream",
          "name": "stdout",
          "text": [
            "True\n"
          ]
        }
      ],
      "source": [
        "if False:\n",
        "    print(\"False\")\n",
        "else:\n",
        "    print(\"True\")"
      ]
    },
    {
      "cell_type": "code",
      "execution_count": 9,
      "metadata": {
        "id": "pavOaJtUnSxh",
        "colab": {
          "base_uri": "https://localhost:8080/"
        },
        "outputId": "a2698ef6-a4ac-490f-d8d4-7844ced524ca"
      },
      "outputs": [
        {
          "output_type": "stream",
          "name": "stdout",
          "text": [
            "숫자를 입력하세요:15\n",
            "홀수 입니다\n"
          ]
        }
      ],
      "source": [
        "# 홀수 짝수 판별기\n",
        "num = int(input(\"숫자를 입력하세요:\"))\n",
        "\n",
        "if num % 2:\n",
        "  print(\"홀수 입니다\")\n",
        "else:\n",
        "  print(\"짝수 입니다\")"
      ]
    },
    {
      "cell_type": "markdown",
      "metadata": {
        "id": "pevqr7cPnSxh"
      },
      "source": [
        "#### if elif else\n",
        "```python\n",
        "if 조건문1:\n",
        "    실행문1\n",
        "elif 조건문2:\n",
        "    실행문2\n",
        "else:\n",
        "    실행문3\n",
        "```\n",
        "    if 조건문부터 순차적으로 확인한 후 True의 경우일 때 해당 조건의 실행문이 실행된다"
      ]
    },
    {
      "cell_type": "code",
      "execution_count": 11,
      "metadata": {
        "id": "L7Lrncm1nSxi",
        "colab": {
          "base_uri": "https://localhost:8080/"
        },
        "outputId": "096411a0-0a87-4086-98ff-9f0560b61ffc"
      },
      "outputs": [
        {
          "output_type": "stream",
          "name": "stdout",
          "text": [
            "금액을 입력하시오:30000\n",
            "허니콤보\n"
          ]
        }
      ],
      "source": [
        "wallet = int(input(\"금액을 입력하시오:\"))\n",
        "\n",
        "if wallet >= 20000:\n",
        "  print(\"허니콤보\")\n",
        "elif wallet >= 10000:\n",
        "  print(\"치킨 대신 치킨마요\")\n",
        "elif wallet>= 5000:\n",
        "  print(\"분식칩 치콜\")\n",
        "else:\n",
        "  print(\"그림의 치킨\")"
      ]
    },
    {
      "cell_type": "markdown",
      "metadata": {
        "id": "mzmN1DTqnSxi"
      },
      "source": [
        "#### 삼항연산자\n",
        "    한줄의 코드로 if, else를 표현할 수 있는 방법\n",
        "```python\n",
        "실행문1 if 조건문1 else 실행문2\n",
        "```"
      ]
    },
    {
      "cell_type": "code",
      "execution_count": 12,
      "metadata": {
        "id": "TgkCJTh6nSxi",
        "colab": {
          "base_uri": "https://localhost:8080/"
        },
        "outputId": "7794e29d-ae79-4588-dfa8-0aea4b2ae4b3"
      },
      "outputs": [
        {
          "output_type": "stream",
          "name": "stdout",
          "text": [
            "not zero\n"
          ]
        }
      ],
      "source": [
        "data = 1\n",
        "if data:\n",
        "    print(\"not zero\")\n",
        "else:\n",
        "    print(\"zero\") "
      ]
    },
    {
      "cell_type": "code",
      "execution_count": 13,
      "metadata": {
        "id": "QdLoVh10nSxj",
        "colab": {
          "base_uri": "https://localhost:8080/"
        },
        "outputId": "fd81f43d-c152-4ad0-efd6-2bcaffd40f13"
      },
      "outputs": [
        {
          "output_type": "stream",
          "name": "stdout",
          "text": [
            "not zero\n"
          ]
        }
      ],
      "source": [
        "data =1\n",
        "print(\"not zero\") if data else print(\"zero\")"
      ]
    }
  ],
  "metadata": {
    "hide_input": false,
    "kernelspec": {
      "display_name": "Python 3",
      "language": "python",
      "name": "python3"
    },
    "language_info": {
      "codemirror_mode": {
        "name": "ipython",
        "version": 3
      },
      "file_extension": ".py",
      "mimetype": "text/x-python",
      "name": "python",
      "nbconvert_exporter": "python",
      "pygments_lexer": "ipython3",
      "version": "3.8.5"
    },
    "toc": {
      "base_numbering": 1,
      "nav_menu": {},
      "number_sections": true,
      "sideBar": true,
      "skip_h1_title": false,
      "title_cell": "Table of Contents",
      "title_sidebar": "Contents",
      "toc_cell": false,
      "toc_position": {},
      "toc_section_display": true,
      "toc_window_display": false
    },
    "varInspector": {
      "cols": {
        "lenName": 16,
        "lenType": 16,
        "lenVar": 40
      },
      "kernels_config": {
        "python": {
          "delete_cmd_postfix": "",
          "delete_cmd_prefix": "del ",
          "library": "var_list.py",
          "varRefreshCmd": "print(var_dic_list())"
        },
        "r": {
          "delete_cmd_postfix": ") ",
          "delete_cmd_prefix": "rm(",
          "library": "var_list.r",
          "varRefreshCmd": "cat(var_dic_list()) "
        }
      },
      "types_to_exclude": [
        "module",
        "function",
        "builtin_function_or_method",
        "instance",
        "_Feature"
      ],
      "window_display": false
    },
    "colab": {
      "name": "lesson 05. Condition.ipynb",
      "provenance": [],
      "collapsed_sections": [],
      "include_colab_link": true
    }
  },
  "nbformat": 4,
  "nbformat_minor": 0
}